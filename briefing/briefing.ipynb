{
 "cells": [
  {
   "cell_type": "markdown",
   "metadata": {
    "id": "4wfXi1OydLzF"
   },
   "source": [
    "# **Visualização da informação**\n",
    "Escola de Matemática Aplicada - Fundação Getúlio Vargas\n",
    "\n",
    "Alunos: *Edilton Brandão & Erick Brito*\n",
    "\n",
    "---"
   ]
  },
  {
   "cell_type": "markdown",
   "metadata": {
    "id": "XEHZMnf-jTiw"
   },
   "source": [
    "# Projeto Final: Briefing"
   ]
  },
  {
   "cell_type": "markdown",
   "metadata": {
    "id": "Nv9iq7zEyW2l"
   },
   "source": [
    "## Motivação\n",
    "\n",
    "Em pleno 2022, ano de Copa do Mundo, ano de Hexa!\n",
    "\n",
    "Não é de hoje que a paixão pelo futebol está no coração dos brasileiros. E o que incendiaria mais essa paixão do que uma Copa do Mundo? Ainda mais com a chance de um hexacampeonato da seleção brasileira. \n",
    "\n",
    "Tomados pelos sentimentos que esse evento nos proporciona, decidimos fazer nosso projeto final da disciplina sobre **Copa do Mundo**."
   ]
  },
  {
   "cell_type": "markdown",
   "metadata": {
    "id": "SYSGm5QJZM8a"
   },
   "source": [
    "## Objetivo\n",
    "\n",
    "\n",
    "A ideia do nosso projeto é criar uma interface via streamlit que contenha resumos das participações de cada seleção nas copas, desde 1930 a 2022 e também algumas visualizações interessantes, permitindo assim, que o usuário tenha um fácil acesso às participações e resultados de uma seleção específica na Copa do Mundo do ano desejado."
   ]
  },
  {
   "cell_type": "markdown",
   "metadata": {
    "id": "_En4IDtSzo-9"
   },
   "source": [
    "## Base de Dados "
   ]
  },
  {
   "cell_type": "markdown",
   "metadata": {
    "id": "j4c2Gvks805Y"
   },
   "source": [
    "A base de dados que será utilizada no trabalho final é a seguinte: [International football results from 1872 to 2022](https://www.kaggle.com/datasets/martj42/international-football-results-from-1872-to-2017?select=results.csv).\n",
    "\n",
    "Este dataset inclui 44.152 resultados de partidas internacionais de futebol, desde a primeira partida oficial em 1872 até 2022. As partidas variam da Copa do Mundo da FIFA à FIFI Wild Cup e amistosos regulares.\n",
    "\n",
    "Embora outros torneios estejam presentes, inicialmente nosso interesse é apenas nos resultados da Copa do Mundo da FIFA, por isso ainda vamos fazer uma filtragem na etapa de exploração dos dados, além disso, vamos explicar melhor sobre as colunas presentes no dataset, então aqui vamos dar apenas uma breve olhada nos dados."
   ]
  },
  {
   "cell_type": "markdown",
   "metadata": {
    "id": "St8E3ng5VHah"
   },
   "source": [
    "Criamos um repositório para o projeto: https://github.com/Erickslb/copa-do-mundo-vis.\n",
    "\n",
    "Subimos os dados para o repositório e vamos lê-los direto de lá."
   ]
  },
  {
   "cell_type": "code",
   "execution_count": null,
   "metadata": {
    "id": "x7GuRSVl-7uE"
   },
   "outputs": [],
   "source": [
    "import pandas as pd\n",
    "url = \"https://raw.githubusercontent.com/Erickslb/copa-do-mundo-vis/main/data/results.csv\"\n",
    "data = pd.read_csv(url)\n"
   ]
  },
  {
   "cell_type": "code",
   "execution_count": null,
   "metadata": {
    "colab": {
     "base_uri": "https://localhost:8080/"
    },
    "id": "UCOwN1A1nv7I",
    "outputId": "d0e6481d-43e9-45b8-810e-7fc37cef3edc"
   },
   "outputs": [
    {
     "name": "stdout",
     "output_type": "stream",
     "text": [
      "<class 'pandas.core.frame.DataFrame'>\n",
      "RangeIndex: 44206 entries, 0 to 44205\n",
      "Data columns (total 9 columns):\n",
      " #   Column      Non-Null Count  Dtype  \n",
      "---  ------      --------------  -----  \n",
      " 0   date        44206 non-null  object \n",
      " 1   home_team   44206 non-null  object \n",
      " 2   away_team   44206 non-null  object \n",
      " 3   home_score  44202 non-null  float64\n",
      " 4   away_score  44202 non-null  float64\n",
      " 5   tournament  44206 non-null  object \n",
      " 6   city        44206 non-null  object \n",
      " 7   country     44206 non-null  object \n",
      " 8   neutral     44206 non-null  bool   \n",
      "dtypes: bool(1), float64(2), object(6)\n",
      "memory usage: 2.7+ MB\n"
     ]
    }
   ],
   "source": [
    "data.info()"
   ]
  },
  {
   "cell_type": "code",
   "execution_count": null,
   "metadata": {
    "colab": {
     "base_uri": "https://localhost:8080/",
     "height": 206
    },
    "id": "aAdgfLuLn5w_",
    "outputId": "e046c8cc-5182-484f-c8c7-e64ea9e3aa3d"
   },
   "outputs": [
    {
     "data": {
      "text/html": [
       "\n",
       "  <div id=\"df-d5da7230-d71b-47b9-9823-573441ff78c6\">\n",
       "    <div class=\"colab-df-container\">\n",
       "      <div>\n",
       "<style scoped>\n",
       "    .dataframe tbody tr th:only-of-type {\n",
       "        vertical-align: middle;\n",
       "    }\n",
       "\n",
       "    .dataframe tbody tr th {\n",
       "        vertical-align: top;\n",
       "    }\n",
       "\n",
       "    .dataframe thead th {\n",
       "        text-align: right;\n",
       "    }\n",
       "</style>\n",
       "<table border=\"1\" class=\"dataframe\">\n",
       "  <thead>\n",
       "    <tr style=\"text-align: right;\">\n",
       "      <th></th>\n",
       "      <th>date</th>\n",
       "      <th>home_team</th>\n",
       "      <th>away_team</th>\n",
       "      <th>home_score</th>\n",
       "      <th>away_score</th>\n",
       "      <th>tournament</th>\n",
       "      <th>city</th>\n",
       "      <th>country</th>\n",
       "      <th>neutral</th>\n",
       "    </tr>\n",
       "  </thead>\n",
       "  <tbody>\n",
       "    <tr>\n",
       "      <th>0</th>\n",
       "      <td>1872-11-30</td>\n",
       "      <td>Scotland</td>\n",
       "      <td>England</td>\n",
       "      <td>0.0</td>\n",
       "      <td>0.0</td>\n",
       "      <td>Friendly</td>\n",
       "      <td>Glasgow</td>\n",
       "      <td>Scotland</td>\n",
       "      <td>False</td>\n",
       "    </tr>\n",
       "    <tr>\n",
       "      <th>1</th>\n",
       "      <td>1873-03-08</td>\n",
       "      <td>England</td>\n",
       "      <td>Scotland</td>\n",
       "      <td>4.0</td>\n",
       "      <td>2.0</td>\n",
       "      <td>Friendly</td>\n",
       "      <td>London</td>\n",
       "      <td>England</td>\n",
       "      <td>False</td>\n",
       "    </tr>\n",
       "    <tr>\n",
       "      <th>2</th>\n",
       "      <td>1874-03-07</td>\n",
       "      <td>Scotland</td>\n",
       "      <td>England</td>\n",
       "      <td>2.0</td>\n",
       "      <td>1.0</td>\n",
       "      <td>Friendly</td>\n",
       "      <td>Glasgow</td>\n",
       "      <td>Scotland</td>\n",
       "      <td>False</td>\n",
       "    </tr>\n",
       "    <tr>\n",
       "      <th>3</th>\n",
       "      <td>1875-03-06</td>\n",
       "      <td>England</td>\n",
       "      <td>Scotland</td>\n",
       "      <td>2.0</td>\n",
       "      <td>2.0</td>\n",
       "      <td>Friendly</td>\n",
       "      <td>London</td>\n",
       "      <td>England</td>\n",
       "      <td>False</td>\n",
       "    </tr>\n",
       "    <tr>\n",
       "      <th>4</th>\n",
       "      <td>1876-03-04</td>\n",
       "      <td>Scotland</td>\n",
       "      <td>England</td>\n",
       "      <td>3.0</td>\n",
       "      <td>0.0</td>\n",
       "      <td>Friendly</td>\n",
       "      <td>Glasgow</td>\n",
       "      <td>Scotland</td>\n",
       "      <td>False</td>\n",
       "    </tr>\n",
       "  </tbody>\n",
       "</table>\n",
       "</div>\n",
       "      <button class=\"colab-df-convert\" onclick=\"convertToInteractive('df-d5da7230-d71b-47b9-9823-573441ff78c6')\"\n",
       "              title=\"Convert this dataframe to an interactive table.\"\n",
       "              style=\"display:none;\">\n",
       "        \n",
       "  <svg xmlns=\"http://www.w3.org/2000/svg\" height=\"24px\"viewBox=\"0 0 24 24\"\n",
       "       width=\"24px\">\n",
       "    <path d=\"M0 0h24v24H0V0z\" fill=\"none\"/>\n",
       "    <path d=\"M18.56 5.44l.94 2.06.94-2.06 2.06-.94-2.06-.94-.94-2.06-.94 2.06-2.06.94zm-11 1L8.5 8.5l.94-2.06 2.06-.94-2.06-.94L8.5 2.5l-.94 2.06-2.06.94zm10 10l.94 2.06.94-2.06 2.06-.94-2.06-.94-.94-2.06-.94 2.06-2.06.94z\"/><path d=\"M17.41 7.96l-1.37-1.37c-.4-.4-.92-.59-1.43-.59-.52 0-1.04.2-1.43.59L10.3 9.45l-7.72 7.72c-.78.78-.78 2.05 0 2.83L4 21.41c.39.39.9.59 1.41.59.51 0 1.02-.2 1.41-.59l7.78-7.78 2.81-2.81c.8-.78.8-2.07 0-2.86zM5.41 20L4 18.59l7.72-7.72 1.47 1.35L5.41 20z\"/>\n",
       "  </svg>\n",
       "      </button>\n",
       "      \n",
       "  <style>\n",
       "    .colab-df-container {\n",
       "      display:flex;\n",
       "      flex-wrap:wrap;\n",
       "      gap: 12px;\n",
       "    }\n",
       "\n",
       "    .colab-df-convert {\n",
       "      background-color: #E8F0FE;\n",
       "      border: none;\n",
       "      border-radius: 50%;\n",
       "      cursor: pointer;\n",
       "      display: none;\n",
       "      fill: #1967D2;\n",
       "      height: 32px;\n",
       "      padding: 0 0 0 0;\n",
       "      width: 32px;\n",
       "    }\n",
       "\n",
       "    .colab-df-convert:hover {\n",
       "      background-color: #E2EBFA;\n",
       "      box-shadow: 0px 1px 2px rgba(60, 64, 67, 0.3), 0px 1px 3px 1px rgba(60, 64, 67, 0.15);\n",
       "      fill: #174EA6;\n",
       "    }\n",
       "\n",
       "    [theme=dark] .colab-df-convert {\n",
       "      background-color: #3B4455;\n",
       "      fill: #D2E3FC;\n",
       "    }\n",
       "\n",
       "    [theme=dark] .colab-df-convert:hover {\n",
       "      background-color: #434B5C;\n",
       "      box-shadow: 0px 1px 3px 1px rgba(0, 0, 0, 0.15);\n",
       "      filter: drop-shadow(0px 1px 2px rgba(0, 0, 0, 0.3));\n",
       "      fill: #FFFFFF;\n",
       "    }\n",
       "  </style>\n",
       "\n",
       "      <script>\n",
       "        const buttonEl =\n",
       "          document.querySelector('#df-d5da7230-d71b-47b9-9823-573441ff78c6 button.colab-df-convert');\n",
       "        buttonEl.style.display =\n",
       "          google.colab.kernel.accessAllowed ? 'block' : 'none';\n",
       "\n",
       "        async function convertToInteractive(key) {\n",
       "          const element = document.querySelector('#df-d5da7230-d71b-47b9-9823-573441ff78c6');\n",
       "          const dataTable =\n",
       "            await google.colab.kernel.invokeFunction('convertToInteractive',\n",
       "                                                     [key], {});\n",
       "          if (!dataTable) return;\n",
       "\n",
       "          const docLinkHtml = 'Like what you see? Visit the ' +\n",
       "            '<a target=\"_blank\" href=https://colab.research.google.com/notebooks/data_table.ipynb>data table notebook</a>'\n",
       "            + ' to learn more about interactive tables.';\n",
       "          element.innerHTML = '';\n",
       "          dataTable['output_type'] = 'display_data';\n",
       "          await google.colab.output.renderOutput(dataTable, element);\n",
       "          const docLink = document.createElement('div');\n",
       "          docLink.innerHTML = docLinkHtml;\n",
       "          element.appendChild(docLink);\n",
       "        }\n",
       "      </script>\n",
       "    </div>\n",
       "  </div>\n",
       "  "
      ],
      "text/plain": [
       "         date home_team away_team  home_score  away_score tournament     city  \\\n",
       "0  1872-11-30  Scotland   England         0.0         0.0   Friendly  Glasgow   \n",
       "1  1873-03-08   England  Scotland         4.0         2.0   Friendly   London   \n",
       "2  1874-03-07  Scotland   England         2.0         1.0   Friendly  Glasgow   \n",
       "3  1875-03-06   England  Scotland         2.0         2.0   Friendly   London   \n",
       "4  1876-03-04  Scotland   England         3.0         0.0   Friendly  Glasgow   \n",
       "\n",
       "    country  neutral  \n",
       "0  Scotland    False  \n",
       "1   England    False  \n",
       "2  Scotland    False  \n",
       "3   England    False  \n",
       "4  Scotland    False  "
      ]
     },
     "execution_count": 12,
     "metadata": {},
     "output_type": "execute_result"
    }
   ],
   "source": [
    "data.head()"
   ]
  },
  {
   "cell_type": "markdown",
   "metadata": {
    "id": "apJUMTXxoAUM"
   },
   "source": [
    "Algumas das principais variáveis que vamos trabalhar são *home_team*, *away_team*, *home_score*, *away_score*, *country* e *date*, pois é a partir delas que vamos obter a informação de, por exemplo, o número de gols de cada país ao longo dos anos. "
   ]
  },
  {
   "cell_type": "markdown",
   "metadata": {
    "id": "OQhkHvq4kYbG"
   },
   "source": [
    "## Tópicos interessantes\n",
    "- Hipótese sobre os dados\n",
    "\n",
    "  - Seleções com mais gols tendem a ter melhores desempenhos na copa (mais participações, mais títulos)\n",
    "  \n",
    "- Quem é o público alvo?\n",
    "\n",
    "     - Amantes de futebol e pessoas que desejam ter uma visão geral do desempenho das seleções que participaram da Copa do Mundo, ao longo da história\n",
    "- O que pode ser interessante de encontrar nos dados?\n",
    "     - Descobrir quais seleções são recordistas de gols\n",
    "\n",
    "     - Quais as seleções que mais participaram e as que menos participaram de Copa do Mundo\n",
    "\n",
    "     - Seleções que menos tomaram gols e seus desempenhos"
   ]
  },
  {
   "cell_type": "markdown",
   "metadata": {
    "id": "03ST71Y_kdPq"
   },
   "source": [
    "## As circunstâncias\n",
    "- Restrições de prazo \n",
    "  - 12 de dezembro\n",
    "- Como a visualização será consumida\n",
    "  - O objetivo é hospedar a visualização numa aplicação web através da biblioteca Streamlit do Python para \n",
    "    que seja possível a interação do usuário com os gráficos.\n",
    "- Quais são os entregáveis?\n",
    "  - Relatório final (.pdf)\n",
    "  - Interface streamlit (web)"
   ]
  },
  {
   "cell_type": "markdown",
   "metadata": {
    "id": "box0bOmK5Rd6"
   },
   "source": [
    "## Referências de inspiração\n",
    "\n",
    "Para comparar o saldo de gols acumulativo das seleções ao longo de todas as copas, desejamos criar um *bar chart race*, pois permite uma visualização dinâmica de fácil compreensão e divertida de se visualizar.<br><br>\n",
    "\n",
    "![inspira.png](data:image/png;base64,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)\n",
    "\n",
    "https://app.flourish.studio/@flourish/bar-chart-race#guide"
   ]
  },
  {
   "cell_type": "markdown",
   "metadata": {
    "id": "ACyE5A7A7V1W"
   },
   "source": [
    "Desejamos também não só comparar o número de gols, por isso a ideia é que exista um filtro onde o usuário possa escolher o que deseja visualizar (ex: número de faltas, número de títulos, etc..)"
   ]
  },
  {
   "cell_type": "markdown",
   "metadata": {
    "id": "oOcO_U4giilf"
   },
   "source": [
    "Outra referência é um aplicativo interativo para analisar os dados da Bundesliga(campeonato de futebol alemão) da temporada 2013/2014 à temporada 2019/2020 feito via streamlit. Ele resume, de forma interativa, as estatísticas dos jogos que aconteceram nessas temporadas.\n",
    "\n",
    "https://tdenzl-bulian-bulian-ifeiih.streamlit.app/"
   ]
  }
 ],
 "metadata": {
  "colab": {
   "provenance": []
  },
  "kernelspec": {
   "display_name": "Python 3 (ipykernel)",
   "language": "python",
   "name": "python3"
  },
  "language_info": {
   "codemirror_mode": {
    "name": "ipython",
    "version": 3
   },
   "file_extension": ".py",
   "mimetype": "text/x-python",
   "name": "python",
   "nbconvert_exporter": "python",
   "pygments_lexer": "ipython3",
   "version": "3.9.7"
  }
 },
 "nbformat": 4,
 "nbformat_minor": 1
}
